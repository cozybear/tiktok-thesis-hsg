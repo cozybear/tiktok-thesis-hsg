{
  "cells": [
    {
      "cell_type": "code",
      "execution_count": null,
      "metadata": {
        "id": "KYDEdg1dPDFn"
      },
      "outputs": [],
      "source": [
        "!python --version"
      ]
    },
    {
      "cell_type": "code",
      "execution_count": null,
      "metadata": {
        "id": "JedxAI5L8w_j"
      },
      "outputs": [],
      "source": [
        "!pip install keras-tuner --upgrade\n",
        "!pip install catboost\n",
        "!pip install lightgbm\n",
        "!pip install shap"
      ]
    },
    {
      "cell_type": "code",
      "execution_count": null,
      "metadata": {
        "id": "UUMOnzCydjC0"
      },
      "outputs": [],
      "source": [
        "from google.colab import drive\n",
        "drive.mount('/content/drive')"
      ]
    },
    {
      "cell_type": "code",
      "execution_count": null,
      "metadata": {
        "id": "36P4KqbBTTJZ"
      },
      "outputs": [],
      "source": [
        "import numpy as np\n",
        "import pandas as pd\n",
        "import seaborn as sns\n",
        "import os\n",
        "import matplotlib.pyplot as plt\n",
        "import pickle\n",
        "from PIL import Image\n",
        "import io\n",
        "import math\n",
        "import tensorflow as tf\n",
        "import six\n",
        "from collections import defaultdict\n",
        "from tensorflow import keras\n",
        "from tensorflow.keras import Input, layers, Model\n",
        "from sklearn.metrics import r2_score\n",
        "from sklearn.metrics import mean_squared_error\n",
        "from sklearn.metrics import mean_absolute_error\n",
        "import scipy.stats as stats\n",
        "import keras_tuner as kt\n",
        "from catboost import CatBoostRegressor\n",
        "import lightgbm as lgb\n",
        "import shap\n",
        "from sklearn.model_selection import train_test_split\n"
      ]
    },
    {
      "cell_type": "code",
      "execution_count": null,
      "metadata": {
        "id": "Dg5-oe8H6S3R"
      },
      "outputs": [],
      "source": [
        "%matplotlib inline"
      ]
    },
    {
      "cell_type": "code",
      "execution_count": null,
      "metadata": {
        "id": "eLh45NXi5PRy"
      },
      "outputs": [],
      "source": [
        "plt.rcParams['figure.dpi'] = 400"
      ]
    },
    {
      "cell_type": "code",
      "execution_count": null,
      "metadata": {
        "id": "LloCvUnELhW1"
      },
      "outputs": [],
      "source": [
        "print('Notebook run using keras:', keras.__version__)\n",
        "print('Notebook run using tensorflow:', tf.__version__)"
      ]
    },
    {
      "cell_type": "code",
      "execution_count": null,
      "metadata": {
        "id": "WsQQqiBSjxHx"
      },
      "outputs": [],
      "source": [
        "gpu_info = !nvidia-smi\n",
        "gpu_info = '\\n'.join(gpu_info)\n",
        "if gpu_info.find('failed') >= 0:\n",
        "  print('Not connected to a GPU')\n",
        "else:\n",
        "  print(gpu_info)"
      ]
    },
    {
      "cell_type": "code",
      "execution_count": null,
      "metadata": {
        "id": "KgOpFOg13c9P"
      },
      "outputs": [],
      "source": [
        "#helper functions\n",
        "def adjusted_r2(y_test, y_pred, n_predictors):\n",
        "    r2 = r2_score(y_test, y_pred)  \n",
        "    adj_r2 = 1-(1-r2)*(len(y_test)-1)/(len(y_test)-n_predictors-1) \n",
        "    return adj_r2\n",
        "\n",
        "\n",
        "def mean_absolute_percentage_error(y_pred, y_true): \n",
        "    y_true, y_pred = np.array(y_true), np.array(y_pred)\n",
        "    return np.mean(np.abs((y_true - y_pred) / y_true)) * 100"
      ]
    },
    {
      "cell_type": "code",
      "execution_count": null,
      "metadata": {
        "id": "_RINfY97T_0G"
      },
      "outputs": [],
      "source": [
        "def _parse_function(example_proto):\n",
        "    feature_description = {\n",
        "        'image': tf.io.FixedLenFeature((), tf.string), #face images\n",
        "        'emb': tf.io.FixedLenFeature((128,), tf.float32),  # embedding from face_recognition\n",
        "        'user': tf.io.FixedLenFeature((), tf.string), #username\n",
        "        'label': tf.io.FixedLenFeature((), tf.float32), #target label (engagment rate)\n",
        "    }\n",
        "\n",
        "    data = tf.io.parse_single_example(example_proto, feature_description)\n",
        "    image = data['image']\n",
        "    image = tf.io.decode_jpeg(image, channels=3)\n",
        "    image = tf.image.resize_with_pad(image, 128, 128) #resize images to fit model input\n",
        "    image = tf.cast(image, tf.float32) / 255.0 # Normalize the rgb values of the image from the range [0, 255] to [0, 1]\n",
        "\n",
        "    return {'image': image, \n",
        "            'emb': data['emb'],\n",
        "            'user': data['user']}, data['label']"
      ]
    },
    {
      "cell_type": "code",
      "execution_count": null,
      "metadata": {
        "id": "bplKyt8l8Yy1"
      },
      "outputs": [],
      "source": [
        "# Training dataset, 32 faces per channel, random-shuffled.\n",
        "ds_train = tf.data.Dataset.from_tensor_slices(['/content/drive/MyDrive/tiktok_model/train_32face.tfrecord'])\n",
        "ds_train = ds_train.flat_map(lambda filename: tf.data.TFRecordDataset(filename))\n",
        "ds_train = ds_train.map(_parse_function, num_parallel_calls=tf.data.AUTOTUNE)\n",
        "ds_train = ds_train.shuffle(10000).batch(32, drop_remainder=True)\n",
        "\n",
        "# val dataset, 32 faces per channel, used for the final ensembled prediction.\n",
        "ds_val = tf.data.Dataset.from_tensor_slices(['/content/drive/MyDrive/tiktok_model/validation_32face.tfrecord'])\n",
        "ds_val = ds_val.flat_map(lambda filename: tf.data.TFRecordDataset(filename))\n",
        "ds_val = ds_val.map(_parse_function, num_parallel_calls=tf.data.AUTOTUNE)\n",
        "ds_val = ds_val.batch(32, drop_remainder=True)\n",
        "\n",
        "# test dataset, 32 faces per channel, used for the final ensembled prediction.\n",
        "ds_test_multiple = tf.data.Dataset.from_tensor_slices(['/content/drive/MyDrive/tiktok_model/test_32face.tfrecord'])\n",
        "ds_test_multiple = ds_test_multiple.flat_map(lambda filename: tf.data.TFRecordDataset(filename))\n",
        "ds_test_multiple = ds_test_multiple.map(_parse_function, num_parallel_calls=tf.data.AUTOTUNE)\n",
        "ds_test_multiple = ds_test_multiple.batch(32, drop_remainder=True)\n",
        "\n",
        "# test dataset, 1 face per channel.\n",
        "ds_test = tf.data.Dataset.from_tensor_slices(['/content/drive/MyDrive/tiktok_model/test_1_32face.tfrecord'])\n",
        "ds_test = ds_test.flat_map(lambda filename: tf.data.TFRecordDataset(filename))\n",
        "ds_test = ds_test.map(_parse_function, num_parallel_calls=tf.data.AUTOTUNE)\n",
        "ds_test = ds_test.batch(32, drop_remainder=True)"
      ]
    },
    {
      "cell_type": "code",
      "execution_count": null,
      "metadata": {
        "id": "nDyZhpEiBfNH"
      },
      "outputs": [],
      "source": [
        "# Prepare a directory to store all the faces.\n",
        "checkpoint_dir = \"/content/drive/MyDrive/tiktok_model/face_plots\"\n",
        "if not os.path.exists(checkpoint_dir):\n",
        "    os.makedirs(checkpoint_dir)"
      ]
    },
    {
      "cell_type": "code",
      "execution_count": null,
      "metadata": {
        "id": "JXKVdS5BnHHt"
      },
      "outputs": [],
      "source": [
        "for e in ds_test.take(1):\n",
        "    images, user, labels = e[0]['image'].numpy(), e[0]['user'].numpy(), e[1].numpy()\n",
        "    fig = plt.figure(figsize=(5, 5))\n",
        "    for i, img in enumerate(images[:16]):\n",
        "        fig.add_subplot(4, 4, i + 1)\n",
        "        plt.imshow(img)\n",
        "        plt.axis('off')\n",
        "    plt.tight_layout(pad=0.2)\n",
        "    plt.savefig(\"/content/drive/MyDrive/tiktok_model/face_plots/example_faces_32\", dpi=400, bbox_inches=\"tight\")\n",
        "    plt.show()"
      ]
    },
    {
      "cell_type": "code",
      "execution_count": null,
      "metadata": {
        "id": "Zs4rl9FsuC7X"
      },
      "outputs": [],
      "source": [
        "class TikTokRegressionModel(tf.keras.Model):\n",
        "    def __init__(self, channel_multiplier=[], dropout_rate=0.3, units=32, backbone=\"resnet50\", n_layers=2):\n",
        "        super().__init__()\n",
        "\n",
        "        self.backbone = backbone\n",
        "        self.dropout_rate = dropout_rate\n",
        "        self.units = units\n",
        "        self.n_layers = n_layers\n",
        "\n",
        "\n",
        "        if self.backbone == \"vgg16\":\n",
        "          self.vgg = tf.keras.applications.VGG16(weights='imagenet',\n",
        "                  include_top=False,\n",
        "                  input_shape=(128, 128, 3),\n",
        "                  pooling='avg')\n",
        "          \n",
        "\n",
        "          self.vgg.trainable=False\n",
        "          \n",
        "\n",
        "          self.base = tf.keras.models.Sequential()\n",
        "          self.base.add(self.vgg)\n",
        "          self.base.add(tf.keras.layers.Dropout(dropout_rate))\n",
        "\n",
        "\n",
        "        elif self.backbone == \"resnet50\":\n",
        "          self.resnet = tf.keras.applications.ResNet50V2(weights='imagenet',\n",
        "                  include_top=False,\n",
        "                  input_shape=(128, 128, 3),\n",
        "                  pooling='avg')\n",
        "\n",
        "  \n",
        "\n",
        "          self.resnet.trainable=False\n",
        "          \n",
        "\n",
        "          self.base = tf.keras.models.Sequential()\n",
        "          self.base.add(self.resnet)\n",
        "          self.base.add(tf.keras.layers.Dropout(dropout_rate))\n",
        "        \n",
        "\n",
        "        #face vector-encoding MLP\n",
        "        self.emb = tf.keras.models.Sequential()\n",
        "        self.emb.add(tf.keras.layers.Dense(32))\n",
        "        self.emb.add(tf.keras.layers.Activation('relu'))\n",
        "\n",
        "\n",
        "\n",
        "        #fully connected layers\n",
        "        self.dnn = tf.keras.models.Sequential()\n",
        "\n",
        "        for l in range(n_layers):\n",
        "          layer = tf.keras.models.Sequential()\n",
        "          layer.add(tf.keras.layers.Dense(units))\n",
        "          layer.add(tf.keras.layers.Activation('relu'))\n",
        "          self.dnn.add(layer)\n",
        "\n",
        "        #regresion output layer\n",
        "        self.dnn.add(tf.keras.layers.Dense(1))\n",
        "        self.dnn.add(tf.keras.layers.Activation('relu'))\n",
        "\n",
        "        \n",
        "\n",
        "    def call(self, inputs, training=False):\n",
        "      #run = inputs[0]\n",
        "      run = inputs['image']\n",
        "      run = self.base(run) #image calling\n",
        "      \n",
        "      #emb = inputs[1]\n",
        "      emb = inputs['emb']\n",
        "      emb = self.emb(emb) #face vector calling\n",
        "\n",
        "      run = tf.concat([run, emb], axis=-1) # concacenate  outputs  \n",
        "      run = self.dnn(run) #run through fully-connected and regression layers     \n",
        "\n",
        "      return run\n",
        "\n",
        "\n",
        "    def model(self):\n",
        "        img = Input(shape=(128,128,3))  # sequence length\n",
        "        emb = Input(shape=(128,)) \n",
        "\n",
        "        return Model(inputs=[img, emb], outputs=self.call([img, emb]))"
      ]
    },
    {
      "cell_type": "markdown",
      "metadata": {
        "id": "cIeKZ3YZoyi_"
      },
      "source": [
        "##Hyperparameter Tuning"
      ]
    },
    {
      "cell_type": "code",
      "execution_count": null,
      "metadata": {
        "id": "xCH0xLTOdHY8"
      },
      "outputs": [],
      "source": [
        "def build_model(hp):\n",
        "  hp_units = hp.Choice('units', values=[32, 64])\n",
        "  hp_dropout_rate = hp.Choice('dropout_rate', values = [0.0, 0.2, 0.3])\n",
        "  hp_backbone = hp.Choice('backbone', values = ['vgg16', 'resnet50'])\n",
        "  hp_layers = hp.Choice('layers', values = [1, 2])\n",
        "\n",
        "  model = TikTokRegressionModel(dropout_rate=hp_dropout_rate, units=hp_units, backbone=hp_backbone, n_layers=hp_layers)\n",
        "\n",
        "  # Tune the learning rate for the optimizer\n",
        "  hp_learning_rate = hp.Choice('learning_rate', values=[0.001, 0.0005, 0.0001, 0.00005])\n",
        "\n",
        "  model.compile(optimizer=tf.keras.optimizers.Adam(learning_rate=hp_learning_rate),\n",
        "                loss=tf.keras.losses.MeanSquaredError(),\n",
        "                metrics=[tf.keras.metrics.RootMeanSquaredError(), \n",
        "                      tf.keras.metrics.MeanAbsoluteError(), \n",
        "                      tf.keras.metrics.MeanAbsolutePercentageError()])\n",
        "\n",
        "  return model"
      ]
    },
    {
      "cell_type": "code",
      "execution_count": null,
      "metadata": {
        "id": "WX7g6xkf7hiq"
      },
      "outputs": [],
      "source": [
        "# Prepare a directory to store all the checkpoints.\n",
        "tuner_dir = \"/content/drive/MyDrive/tiktok_model/tuner\"\n",
        "\n",
        "if not os.path.exists(tuner_dir):\n",
        "    os.makedirs(tuner_dir)\n",
        "\n",
        "tuner = kt.Hyperband(build_model,\n",
        "                     objective='val_loss',\n",
        "                     max_epochs=40,\n",
        "                     factor=3,\n",
        "                     overwrite=True,\n",
        "                     directory=tuner_dir,\n",
        "                     max_consecutive_failed_trials=10,\n",
        "                     project_name='engagment_prediction_regression_nn')"
      ]
    },
    {
      "cell_type": "code",
      "execution_count": null,
      "metadata": {
        "id": "BXnRDoWU76w7"
      },
      "outputs": [],
      "source": [
        "#early stopping\n",
        "stop_early = tf.keras.callbacks.EarlyStopping(monitor='val_loss', patience=3)"
      ]
    },
    {
      "cell_type": "code",
      "execution_count": null,
      "metadata": {
        "id": "oa_H61qU793t"
      },
      "outputs": [],
      "source": [
        "#perform hyperparmeter search\n",
        "tuner.search(x=ds_train, validation_data=ds_val, epochs=40, callbacks=[stop_early])"
      ]
    },
    {
      "cell_type": "markdown",
      "metadata": {
        "id": "-W_vRnNI1SCW"
      },
      "source": [
        "#Train Model with optimal hyperparameters"
      ]
    },
    {
      "cell_type": "code",
      "execution_count": null,
      "metadata": {
        "id": "32HUdIJ6GyAC"
      },
      "outputs": [],
      "source": [
        "# Get the optimal hyperparameters\n",
        "best_hps=tuner.get_best_hyperparameters(num_trials=1)[0]\n",
        "print(best_hps)"
      ]
    },
    {
      "cell_type": "code",
      "execution_count": null,
      "metadata": {
        "id": "w2R8NL1SIQJB"
      },
      "outputs": [],
      "source": [
        "# Prepare a directory to store all the checkpoints.\n",
        "checkpoint_dir = \"/content/drive/MyDrive/tiktok_model/ckpt/resnet\"\n",
        "if not os.path.exists(checkpoint_dir):\n",
        "    os.makedirs(checkpoint_dir)\n",
        "  \n",
        "# Prepare a directory to store all the logs.\n",
        "log_dir = \"/content/drive/MyDrive/tiktok_model/logs/resnet\"\n",
        "if not os.path.exists(log_dir):\n",
        "    os.makedirs(log_dir)\n",
        "  \n",
        "# Prepare a directory to store plots.\n",
        "plot_dir = \"/content/drive/MyDrive/tiktok_model/plots/resnet\"\n",
        "if not os.path.exists(plot_dir):\n",
        "    os.makedirs(plot_dir)"
      ]
    },
    {
      "cell_type": "code",
      "execution_count": null,
      "metadata": {
        "id": "eLKMIDQ6IV-2"
      },
      "outputs": [],
      "source": [
        "model_checkpoint_callback = keras.callbacks.ModelCheckpoint(\n",
        "        filepath=\"/content/drive/MyDrive/tiktok_model/ckpt/resnet/model\",\n",
        "        #save_freq=\"epoch\",\n",
        "        save_best_only=True,  # Only save a model if `val_loss` has improved.\n",
        "        monitor=\"val_loss\",\n",
        "        verbose=1\n",
        "    )"
      ]
    },
    {
      "cell_type": "code",
      "execution_count": null,
      "metadata": {
        "id": "ajqfaR-hsdNL"
      },
      "outputs": [],
      "source": [
        "#init model with optimal hyperparameters\n",
        "model = TikTokRegressionModel(units=32, dropout_rate=0.3, backbone=\"resnet50\", n_layers=2)"
      ]
    },
    {
      "cell_type": "code",
      "execution_count": null,
      "metadata": {
        "id": "mH0drAvjWVIe"
      },
      "outputs": [],
      "source": [
        "#plot model structure\n",
        "tf.keras.utils.plot_model(\n",
        "    model.model(),\n",
        "    to_file=\"/content/drive/MyDrive/tiktok_model/own.png\",\n",
        "    show_shapes=True,\n",
        "    show_dtype=True,\n",
        "    show_layer_names=False,\n",
        "    rankdir=\"TB\",\n",
        "    expand_nested=True,\n",
        "    dpi=200,\n",
        "    layer_range=None,\n",
        "    show_layer_activations=True,\n",
        ")"
      ]
    },
    {
      "cell_type": "code",
      "execution_count": null,
      "metadata": {
        "id": "OaF-s09eWuKw"
      },
      "outputs": [],
      "source": [
        "# Compile with optimal learning rate\n",
        "model.compile(loss=tf.keras.losses.MeanSquaredError(),\n",
        "              optimizer=tf.keras.optimizers.Adam(learning_rate=0.00005),\n",
        "              metrics=[tf.keras.metrics.RootMeanSquaredError(), \n",
        "                       tf.keras.metrics.MeanAbsoluteError(), \n",
        "                       tf.keras.metrics.MeanAbsolutePercentageError()])"
      ]
    },
    {
      "cell_type": "code",
      "execution_count": null,
      "metadata": {
        "id": "ks50kSFwyvLG"
      },
      "outputs": [],
      "source": [
        "initial_epochs = 40"
      ]
    },
    {
      "cell_type": "code",
      "execution_count": null,
      "metadata": {
        "id": "ZfSZnV7UuLYU"
      },
      "outputs": [],
      "source": [
        " history = model.fit(ds_train, epochs=initial_epochs, callbacks=model_checkpoint_callback, validation_data=ds_val)"
      ]
    },
    {
      "cell_type": "code",
      "execution_count": null,
      "metadata": {
        "id": "EU7DfZDG6Vmz"
      },
      "outputs": [],
      "source": [
        "loss = history.history['loss']\n",
        "val_loss = history.history['val_loss']"
      ]
    },
    {
      "cell_type": "code",
      "execution_count": null,
      "metadata": {
        "id": "DJO1CGGJfdyU"
      },
      "outputs": [],
      "source": [
        "best_epoch = val_loss.index(min(val_loss)) + 1 \n",
        "print('Best epoch: %d' % (best_epoch))"
      ]
    },
    {
      "cell_type": "code",
      "execution_count": null,
      "metadata": {
        "id": "cso_X8uBROMN"
      },
      "outputs": [],
      "source": [
        "#plot model loss\n",
        "plt.figure(figsize=(14, 5))\n",
        "plt.plot(loss, label='Training Loss')\n",
        "plt.plot(val_loss, label='Validation Loss')\n",
        "plt.ylabel('Loss [MSE]')\n",
        "plt.xlabel('Epoch')\n",
        "plt.legend(loc='upper right')\n",
        "plt.savefig(\"/content/drive/MyDrive/tiktok_model/plots/train_val_loss_32_resnet\", dpi=400, bbox_inches=\"tight\")\n",
        "plt.show()"
      ]
    },
    {
      "cell_type": "markdown",
      "metadata": {
        "id": "OUobObd7xeEn"
      },
      "source": [
        "#Evaluation"
      ]
    },
    {
      "cell_type": "code",
      "execution_count": null,
      "metadata": {
        "id": "K95OAIv1uOE4"
      },
      "outputs": [],
      "source": [
        "# Simple evaluation (1 face)\n",
        "preds = model.predict(ds_test)[:, 0]\n",
        "labels = []\n",
        "users = []\n",
        "images = []\n",
        "for e in ds_test:\n",
        "    labels.extend(e[1].numpy())\n",
        "    users.extend(e[0]['user'].numpy())\n",
        "    images.extend(e[0]['image'].numpy())\n",
        "labels = np.array(labels)\n",
        "\n",
        "print(\"MAE: \", mean_absolute_error(labels, preds))\n",
        "print(\"MAPE: \",mean_absolute_percentage_error(preds, labels))\n",
        "print(\"MSE: \",mean_squared_error(labels, preds))\n",
        "print(\"RMSE: \",mean_squared_error(labels, preds, squared=False))\n",
        "\n",
        "#calculate pearson correlation\n",
        "print(\"Pearson :\", np.corrcoef(preds, labels)[0][1])\n",
        "\n",
        "#Spearman correlation\n",
        "res, p_value = stats.spearmanr(preds, labels)\n",
        "print(\"Spearman :\", res, p_value)\n",
        "\n",
        "#adjusted r2\n",
        "n_predictors = 2\n",
        "print(\"Adj. R2: \",adjusted_r2(labels, preds, n_predictors))"
      ]
    },
    {
      "cell_type": "code",
      "execution_count": null,
      "metadata": {
        "id": "IcdzO3s0LL3X"
      },
      "outputs": [],
      "source": [
        "# Multiple faces evaluation\n",
        "\n",
        "preds_num = defaultdict(float)\n",
        "preds_den = defaultdict(float)\n",
        "preds_all = model.predict(ds_test_multiple)[:, 0]\n",
        "users_all = []\n",
        "for e in ds_test_multiple:\n",
        "    users_all.extend(e[0]['user'].numpy())\n",
        "for p, u in zip(preds_all, users_all):\n",
        "    u = six.ensure_str(u)\n",
        "    preds_num[u] += p\n",
        "    preds_den[u] += 1.0\n",
        "\n",
        "\n",
        "preds_multiple= np.array([float(preds_num[six.ensure_str(u)]) / float(preds_den[six.ensure_str(u)]) for u in users])\n",
        "\n",
        "print(\"MAE: \", mean_absolute_error(labels, preds_multiple))\n",
        "print(\"MAPE: \",mean_absolute_percentage_error(preds_multiple, labels))\n",
        "print(\"MSE: \",mean_squared_error(labels, preds_multiple))\n",
        "print(\"RMSE: \",mean_squared_error(labels, preds_multiple, squared=False))\n",
        "\n",
        "#calculate pearson correlation\n",
        "print(\"Pearson :\", np.corrcoef(preds_multiple, labels)[0][1])\n",
        "\n",
        "#Spearman correlation\n",
        "res, p_value = stats.spearmanr(preds_multiple, labels)\n",
        "print(\"Spearman :\", res, p_value)\n",
        "\n",
        "\n",
        "#adjusted r2\n",
        "n_predictors = 2\n",
        "print(\"Adj. R2: \", adjusted_r2(labels, preds_multiple, n_predictors))"
      ]
    },
    {
      "cell_type": "code",
      "execution_count": null,
      "metadata": {
        "id": "LD2sVRJGHdi4"
      },
      "outputs": [],
      "source": [
        "plt.figure(figsize=(8, 8))\n",
        "plt.scatter(labels, preds_multiple, alpha=0.3)\n",
        "\n",
        "x = y = np.arange(0, 15, 1)\n",
        "\n",
        "coef = np.polyfit(x,y,1)\n",
        "poly1d_fn = np.poly1d(coef) \n",
        "\n",
        "plt.plot(poly1d_fn(x), '--k')\n",
        "\n",
        "plt.xlabel('Predictions')\n",
        "plt.ylabel('Ground Truth')"
      ]
    },
    {
      "cell_type": "code",
      "execution_count": null,
      "metadata": {
        "id": "MSDaxwzjXN4O"
      },
      "outputs": [],
      "source": [
        "fig = plt.figure(figsize=(8, 8))\n",
        "ax =sns.jointplot(x=labels, y=preds_multiple, alpha=0.3)\n",
        "\n",
        "plt.ylabel('Predictions [%]')\n",
        "plt.xlabel('Ground Truth [%]')"
      ]
    },
    {
      "cell_type": "code",
      "execution_count": null,
      "metadata": {
        "id": "uSYOFbjddJWw"
      },
      "outputs": [],
      "source": [
        "#MAE\n",
        "error = preds_multiple - labels\n",
        "plt.figure(figsize=(10, 5))\n",
        "plt.hist(error, bins=30)\n",
        "plt.xlabel('Absolute Prediction Error [User Engagement Rate]')\n",
        "_ = plt.ylabel('Count')"
      ]
    },
    {
      "cell_type": "markdown",
      "metadata": {
        "id": "UWSdGQxw-lQV"
      },
      "source": [
        "\n",
        "##Results Face Features\n"
      ]
    },
    {
      "cell_type": "code",
      "execution_count": null,
      "metadata": {
        "id": "bOeSmq-5Hl5J"
      },
      "outputs": [],
      "source": [
        "#quicksort predictions\n",
        "preds_sorted = np.argsort(preds)"
      ]
    },
    {
      "cell_type": "code",
      "execution_count": null,
      "metadata": {
        "id": "0ctRZwsYHuQ3"
      },
      "outputs": [],
      "source": [
        "# Highest engagement predictions\n",
        "fig = plt.figure(figsize=(5, 6))\n",
        "fig.tight_layout(pad=0.2)\n",
        "for f, i in enumerate(reversed(preds_sorted[-20:])):\n",
        "    img = images[i]\n",
        "    fig.add_subplot(5, 4, f + 1)                           \n",
        "    plt.imshow(img)\n",
        "    plt.axis('off') \n",
        "plt.tight_layout(pad=0.2)\n",
        "plt.show()"
      ]
    },
    {
      "cell_type": "code",
      "execution_count": null,
      "metadata": {
        "id": "-xFca_0ZedJM"
      },
      "outputs": [],
      "source": [
        "# Lowest engagement predictions\n",
        "fig = plt.figure(figsize=(5, 6))\n",
        "fig.tight_layout(pad=0.2)\n",
        "for f, i in enumerate(reversed(preds_sorted[:16])):\n",
        "    img = images[i]\n",
        "    fig.add_subplot(5, 4, f + 1)                            \n",
        "    plt.imshow(img)\n",
        "    plt.axis('off')\n",
        "    \n",
        "plt.tight_layout(pad=0.2)\n",
        "plt.show()"
      ]
    },
    {
      "cell_type": "markdown",
      "metadata": {
        "id": "YCbW732OaFqO"
      },
      "source": [
        "#Language Regression"
      ]
    },
    {
      "cell_type": "code",
      "execution_count": null,
      "metadata": {
        "id": "9hDqzCVekKUK"
      },
      "outputs": [],
      "source": [
        "#import dataframes\n",
        "df_final = pd.read_csv(\"/content/drive/MyDrive/tiktok_model/df_tabular.csv\")"
      ]
    },
    {
      "cell_type": "code",
      "execution_count": null,
      "metadata": {
        "id": "e9HuPBxTNb0N"
      },
      "outputs": [],
      "source": [
        "df_final = df_final.groupby('language_cat').filter(lambda x : len(x)>2)"
      ]
    },
    {
      "cell_type": "code",
      "execution_count": null,
      "metadata": {
        "id": "CA-weLITHnZP"
      },
      "outputs": [],
      "source": [
        "X, y = df_final['language_cat'], df_final[\"average_engagement_impressions\"]"
      ]
    },
    {
      "cell_type": "code",
      "execution_count": null,
      "metadata": {
        "id": "nLteFJ78qf5Q"
      },
      "outputs": [],
      "source": [
        "X_train, X_test, y_train, y_test = train_test_split(X, y, stratify=X, test_size=0.1, random_state=1)"
      ]
    },
    {
      "cell_type": "code",
      "execution_count": null,
      "metadata": {
        "id": "05hw9B7F0qSn"
      },
      "outputs": [],
      "source": [
        "X_train_split, X_eval_split, y_train_split, y_eval_split = train_test_split(X_train, y_train, stratify=X_train, test_size=0.2, random_state=42)"
      ]
    },
    {
      "cell_type": "markdown",
      "source": [
        "CatBoost"
      ],
      "metadata": {
        "id": "ruFaiNUoFJdv"
      }
    },
    {
      "cell_type": "code",
      "execution_count": null,
      "metadata": {
        "id": "eZPACkwLcpRd"
      },
      "outputs": [],
      "source": [
        "catmodel = CatBoostRegressor()"
      ]
    },
    {
      "cell_type": "code",
      "execution_count": null,
      "metadata": {
        "id": "u_v_IxvfcqlF"
      },
      "outputs": [],
      "source": [
        "catmodel.fit(pd.DataFrame(X_train_split), y_train_split, eval_set=(pd.DataFrame(X_eval_split), y_eval_split), use_best_model=True, verbose=False, cat_features=['language_cat'])"
      ]
    },
    {
      "cell_type": "code",
      "execution_count": null,
      "metadata": {
        "id": "ROU-3b_wff2w"
      },
      "outputs": [],
      "source": [
        "preds = catmodel.predict(pd.DataFrame(X_test))"
      ]
    },
    {
      "cell_type": "code",
      "execution_count": null,
      "metadata": {
        "id": "wUOKmL6Pfj_C"
      },
      "outputs": [],
      "source": [
        "print(\"MAE: \", mean_absolute_error(y_test, preds))\n",
        "print(\"MAPE: \", mean_absolute_percentage_error(y_test, preds))\n",
        "print(\"MSE: \", mean_squared_error(y_test, preds))\n",
        "print(\"RMSE: \", mean_squared_error(y_test, preds, squared=False))\n",
        "\n",
        "#calculate pearson correlation\n",
        "print(\"Pearson :\", np.corrcoef(preds, y_test)[0][1])\n",
        "\n",
        "#Spearman correlation\n",
        "res, p_value = stats.spearmanr(preds, y_test)\n",
        "print(\"Spearman :\", res, p_value)\n",
        "\n",
        "\n",
        "#adjusted r2\n",
        "n_predictors = 1\n",
        "print(\"Adj. R2: \",adjusted_r2(y_test, preds, n_predictors))"
      ]
    },
    {
      "cell_type": "code",
      "execution_count": null,
      "metadata": {
        "id": "BZYwXVcHybF4"
      },
      "outputs": [],
      "source": [
        "sns.jointplot(x=y_test, y=preds, alpha=0.3)\n",
        "plt.xlabel('Ground Truth [%]')\n",
        "plt.ylabel('Predictions [%]')"
      ]
    },
    {
      "cell_type": "markdown",
      "source": [
        "LightGBM"
      ],
      "metadata": {
        "id": "Bsp64DJMFQ8t"
      }
    },
    {
      "cell_type": "code",
      "execution_count": null,
      "metadata": {
        "id": "h9xszBmER1RP"
      },
      "outputs": [],
      "source": [
        "model = lgb.LGBMRegressor()"
      ]
    },
    {
      "cell_type": "code",
      "execution_count": null,
      "metadata": {
        "id": "wkMGNCueR1wa"
      },
      "outputs": [],
      "source": [
        "model.fit(pd.DataFrame(X_train_split), y_train_split, eval_set=(pd.DataFrame(X_eval_split), y_eval_split), categorical_feature=['language_cat'])"
      ]
    },
    {
      "cell_type": "code",
      "execution_count": null,
      "metadata": {
        "id": "BAyA4B3kR1wc"
      },
      "outputs": [],
      "source": [
        "preds = model.predict(pd.DataFrame(X_test))"
      ]
    },
    {
      "cell_type": "code",
      "execution_count": null,
      "metadata": {
        "id": "Y5v2lETER1we"
      },
      "outputs": [],
      "source": [
        "print(\"MAE: \", mean_absolute_error(y_test, preds))\n",
        "print(\"MAPE: \", mean_absolute_percentage_error(y_test, preds))\n",
        "print(\"MSE: \", mean_squared_error(y_test, preds))\n",
        "print(\"RMSE: \", mean_squared_error(y_test, preds, squared=False))\n",
        "\n",
        "#calculate pearson correlation\n",
        "print(\"Pearson :\", np.corrcoef(preds, y_test)[0][1])\n",
        "\n",
        "#Spearman correlation\n",
        "res, p_value = stats.spearmanr(preds, y_test)\n",
        "print(\"Spearman :\", res, p_value)\n",
        "\n",
        "\n",
        "#adjusted r2\n",
        "n_predictors = 1\n",
        "print(\"Adj. R2: \",adjusted_r2(y_test, preds, n_predictors))"
      ]
    },
    {
      "cell_type": "code",
      "execution_count": null,
      "metadata": {
        "id": "1rgTzztSUnA6"
      },
      "outputs": [],
      "source": [
        "sns.jointplot(x=y_test, y=preds, alpha=0.3)\n",
        "plt.xlabel('Ground Truth [%]')\n",
        "plt.ylabel('Predictions [%]')"
      ]
    },
    {
      "cell_type": "markdown",
      "metadata": {
        "id": "5HEXcQszJ4Za"
      },
      "source": [
        "#Channel age"
      ]
    },
    {
      "cell_type": "code",
      "execution_count": null,
      "metadata": {
        "id": "kGe0UKPT_Ucs"
      },
      "outputs": [],
      "source": [
        "#import dataframes\n",
        "df_final = pd.read_csv(\"/content/drive/MyDrive/tiktok_model/df_tabular.csv\")"
      ]
    },
    {
      "cell_type": "code",
      "execution_count": null,
      "metadata": {
        "id": "yat8qv44_VNh"
      },
      "outputs": [],
      "source": [
        "X, y = df_final['channel_age'], df_final[\"average_engagement_impressions\"]"
      ]
    },
    {
      "cell_type": "code",
      "execution_count": null,
      "metadata": {
        "id": "ANFr6wwM_VNj"
      },
      "outputs": [],
      "source": [
        "X_train, X_test, y_train, y_test = train_test_split(X, y,  test_size=0.1, random_state=1)"
      ]
    },
    {
      "cell_type": "code",
      "execution_count": null,
      "metadata": {
        "id": "TSEUXkA2_VNk"
      },
      "outputs": [],
      "source": [
        "X_train_split, X_eval_split, y_train_split, y_eval_split = train_test_split(X_train, y_train, test_size=0.2, random_state=42)"
      ]
    },
    {
      "cell_type": "markdown",
      "source": [
        "CatBoost"
      ],
      "metadata": {
        "id": "n_DydFOdFdDD"
      }
    },
    {
      "cell_type": "code",
      "execution_count": null,
      "metadata": {
        "id": "10Y54EJf_VNp"
      },
      "outputs": [],
      "source": [
        "catmodel_age = CatBoostRegressor()"
      ]
    },
    {
      "cell_type": "code",
      "execution_count": null,
      "metadata": {
        "id": "NbqkW6x__VNp"
      },
      "outputs": [],
      "source": [
        "catmodel_age.fit(pd.DataFrame(X_train_split), y_train_split, eval_set=(pd.DataFrame(X_eval_split), y_eval_split), use_best_model=True, verbose=False)"
      ]
    },
    {
      "cell_type": "code",
      "execution_count": null,
      "metadata": {
        "id": "4DBB6XNj_VNq"
      },
      "outputs": [],
      "source": [
        "preds = catmodel_age.predict(pd.DataFrame(X_test))"
      ]
    },
    {
      "cell_type": "code",
      "execution_count": null,
      "metadata": {
        "id": "QF68x224_VNr"
      },
      "outputs": [],
      "source": [
        "print(\"MAE: \", mean_absolute_error(y_test, preds))\n",
        "print(\"MAPE: \", mean_absolute_percentage_error(y_test, preds))\n",
        "print(\"MSE: \", mean_squared_error(y_test, preds))\n",
        "print(\"RMSE: \", mean_squared_error(y_test, preds, squared=False))\n",
        "\n",
        "#calculate pearson correlation\n",
        "print(\"Pearson :\", np.corrcoef(preds, y_test)[0][1])\n",
        "\n",
        "#Spearman correlation\n",
        "res, p_value = stats.spearmanr(preds, y_test)\n",
        "print(\"Spearman :\", res, p_value)\n",
        "\n",
        "\n",
        "#adjusted r2\n",
        "n_predictors = 1\n",
        "print(\"Adj. R2: \",adjusted_r2(y_test, preds, n_predictors))"
      ]
    },
    {
      "cell_type": "code",
      "execution_count": null,
      "metadata": {
        "id": "fd7YqeioeuIl"
      },
      "outputs": [],
      "source": [
        "sns.jointplot(x=y_test, y=preds, alpha=0.3)\n",
        "plt.xlabel('Ground Truth [%]')\n",
        "plt.ylabel('Predictions [%]')"
      ]
    },
    {
      "cell_type": "markdown",
      "source": [
        "LightGBM"
      ],
      "metadata": {
        "id": "blwAs9ziFgl-"
      }
    },
    {
      "cell_type": "code",
      "execution_count": null,
      "metadata": {
        "id": "kGlh3_JNWud3"
      },
      "outputs": [],
      "source": [
        "model = lgb.LGBMRegressor()"
      ]
    },
    {
      "cell_type": "code",
      "execution_count": null,
      "metadata": {
        "id": "6Py9BctkWud6"
      },
      "outputs": [],
      "source": [
        "model.fit(pd.DataFrame(X_train_split), y_train_split, eval_set=(pd.DataFrame(X_eval_split), y_eval_split), verbose=False)"
      ]
    },
    {
      "cell_type": "code",
      "execution_count": null,
      "metadata": {
        "id": "-tITRYCKWud8"
      },
      "outputs": [],
      "source": [
        "preds = model.predict(pd.DataFrame(X_test))"
      ]
    },
    {
      "cell_type": "code",
      "execution_count": null,
      "metadata": {
        "id": "Ctmn2J83Wud-"
      },
      "outputs": [],
      "source": [
        "print(\"MAE: \", mean_absolute_error(y_test, preds))\n",
        "print(\"MAPE: \", mean_absolute_percentage_error(y_test, preds))\n",
        "print(\"MSE: \", mean_squared_error(y_test, preds))\n",
        "print(\"RMSE: \", mean_squared_error(y_test, preds, squared=False))\n",
        "\n",
        "#calculate pearson correlation\n",
        "print(\"Pearson :\", np.corrcoef(preds, y_test)[0][1])\n",
        "\n",
        "#Spearman correlation\n",
        "res, p_value = stats.spearmanr(preds, y_test)\n",
        "print(\"Spearman :\", res, p_value)\n",
        "\n",
        "\n",
        "#adjusted r2\n",
        "n_predictors = 1\n",
        "print(\"Adj. R2: \",adjusted_r2(y_test, preds, n_predictors))"
      ]
    },
    {
      "cell_type": "code",
      "execution_count": null,
      "metadata": {
        "id": "zlI8aDWGWueA"
      },
      "outputs": [],
      "source": [
        "sns.jointplot(x=y_test, y=preds, alpha=0.3)\n",
        "plt.xlabel('Ground Truth [%]')\n",
        "plt.ylabel('Predictions [%]')"
      ]
    },
    {
      "cell_type": "markdown",
      "metadata": {
        "id": "mvpMPePjNfkG"
      },
      "source": [
        "#Channel Topic"
      ]
    },
    {
      "cell_type": "code",
      "execution_count": null,
      "metadata": {
        "id": "UO3haQQGAzgl"
      },
      "outputs": [],
      "source": [
        "#import dataframes\n",
        "df_final = pd.read_csv(\"/content/drive/MyDrive/tiktok_model/df_tabular.csv\")"
      ]
    },
    {
      "cell_type": "code",
      "execution_count": null,
      "metadata": {
        "id": "95ljFkOEAz7a"
      },
      "outputs": [],
      "source": [
        "X, y = df_final['topic'], df_final[\"average_engagement_impressions\"]"
      ]
    },
    {
      "cell_type": "code",
      "execution_count": null,
      "metadata": {
        "id": "98t6aOpHAz7d"
      },
      "outputs": [],
      "source": [
        "X_train, X_test, y_train, y_test = train_test_split(X, y, stratify=X, test_size=0.1, random_state=1)"
      ]
    },
    {
      "cell_type": "code",
      "execution_count": null,
      "metadata": {
        "id": "6km-z4JLAz7d"
      },
      "outputs": [],
      "source": [
        "X_train_split, X_eval_split, y_train_split, y_eval_split = train_test_split(X_train, y_train, stratify=X_train, test_size=0.2, random_state=42)"
      ]
    },
    {
      "cell_type": "markdown",
      "source": [
        "CatBoost"
      ],
      "metadata": {
        "id": "LNvocZdhFpTt"
      }
    },
    {
      "cell_type": "code",
      "execution_count": null,
      "metadata": {
        "id": "VJhX7086Az7e"
      },
      "outputs": [],
      "source": [
        "catmodel_topic = CatBoostRegressor()"
      ]
    },
    {
      "cell_type": "code",
      "execution_count": null,
      "metadata": {
        "id": "VPU9whHKAz7f"
      },
      "outputs": [],
      "source": [
        "catmodel_topic.fit(pd.DataFrame(X_train_split), y_train_split, eval_set=(pd.DataFrame(X_eval_split), y_eval_split), use_best_model=True, verbose=False, cat_features=['topic'])"
      ]
    },
    {
      "cell_type": "code",
      "execution_count": null,
      "metadata": {
        "id": "tKut1dg8Az7f"
      },
      "outputs": [],
      "source": [
        "preds = catmodel_topic.predict(pd.DataFrame(X_test))"
      ]
    },
    {
      "cell_type": "code",
      "execution_count": null,
      "metadata": {
        "id": "5NhzAUa8Az7g"
      },
      "outputs": [],
      "source": [
        "print(\"MAE: \", mean_absolute_error(y_test, preds))\n",
        "print(\"MAPE: \", mean_absolute_percentage_error(y_test, preds))\n",
        "print(\"MSE: \", mean_squared_error(y_test, preds))\n",
        "print(\"RMSE: \", mean_squared_error(y_test, preds, squared=False))\n",
        "\n",
        "#calculate pearson correlation\n",
        "print(\"Pearson :\", np.corrcoef(preds, y_test)[0][1])\n",
        "\n",
        "#Spearman correlation\n",
        "res, p_value = stats.spearmanr(preds, y_test)\n",
        "print(\"Spearman :\", res, p_value)\n",
        "\n",
        "\n",
        "#adjusted r2\n",
        "n_predictors = 1\n",
        "print(\"Adj. R2: \",adjusted_r2(y_test, preds, n_predictors))"
      ]
    },
    {
      "cell_type": "code",
      "execution_count": null,
      "metadata": {
        "id": "Zr47R61fkQHG"
      },
      "outputs": [],
      "source": [
        "sns.jointplot(x=y_test, y=preds, alpha=0.3)\n",
        "plt.xlabel('Ground Truth [%]')\n",
        "plt.ylabel('Predictions [%]')"
      ]
    },
    {
      "cell_type": "markdown",
      "source": [
        "LightGBM"
      ],
      "metadata": {
        "id": "4vlYomtnFtPz"
      }
    },
    {
      "cell_type": "code",
      "execution_count": null,
      "metadata": {
        "id": "qUjJtpo3ZLxY"
      },
      "outputs": [],
      "source": [
        "model = lgb.LGBMRegressor()"
      ]
    },
    {
      "cell_type": "code",
      "execution_count": null,
      "metadata": {
        "id": "7Vi9xicdZLxb"
      },
      "outputs": [],
      "source": [
        "model.fit(pd.DataFrame(X_train_split), y_train_split, eval_set=(pd.DataFrame(X_eval_split), y_eval_split), verbose=False, categorical_feature=['topic'])"
      ]
    },
    {
      "cell_type": "code",
      "execution_count": null,
      "metadata": {
        "id": "bI-2vl7dZLxd"
      },
      "outputs": [],
      "source": [
        "preds = model.predict(pd.DataFrame(X_test))"
      ]
    },
    {
      "cell_type": "code",
      "execution_count": null,
      "metadata": {
        "id": "n9HFymhOZLxf"
      },
      "outputs": [],
      "source": [
        "print(\"MAE: \", mean_absolute_error(y_test, preds))\n",
        "print(\"MAPE: \", mean_absolute_percentage_error(y_test, preds))\n",
        "print(\"MSE: \", mean_squared_error(y_test, preds))\n",
        "print(\"RMSE: \", mean_squared_error(y_test, preds, squared=False))\n",
        "\n",
        "#calculate pearson correlation\n",
        "print(\"Pearson :\", np.corrcoef(preds, y_test)[0][1])\n",
        "\n",
        "#Spearman correlation\n",
        "res, p_value = stats.spearmanr(preds, y_test)\n",
        "print(\"Spearman :\", res, p_value)\n",
        "\n",
        "\n",
        "#adjusted r2\n",
        "n_predictors = 1\n",
        "print(\"Adj. R2: \",adjusted_r2(y_test, preds, n_predictors))"
      ]
    },
    {
      "cell_type": "code",
      "execution_count": null,
      "metadata": {
        "id": "ZMb_bO4MZLxh"
      },
      "outputs": [],
      "source": [
        "sns.jointplot(x=y_test, y=preds, alpha=0.3)\n",
        "plt.xlabel('Ground Truth [%]')\n",
        "plt.ylabel('Predictions [%]')"
      ]
    },
    {
      "cell_type": "markdown",
      "metadata": {
        "id": "sPsVzMdDVrRH"
      },
      "source": [
        "#Post frequency"
      ]
    },
    {
      "cell_type": "code",
      "execution_count": null,
      "metadata": {
        "id": "3Ir3n6iOCmbn"
      },
      "outputs": [],
      "source": [
        "#import dataframes\n",
        "df_final = pd.read_csv(\"/content/drive/MyDrive/tiktok_model/df_tabular.csv\")"
      ]
    },
    {
      "cell_type": "code",
      "execution_count": null,
      "metadata": {
        "id": "H5yi3uA8Cmv8"
      },
      "outputs": [],
      "source": [
        "X, y = df_final['post_frequency'], df_final[\"average_engagement_impressions\"]"
      ]
    },
    {
      "cell_type": "code",
      "execution_count": null,
      "metadata": {
        "id": "7OAzQHlrCmv-"
      },
      "outputs": [],
      "source": [
        "X_train, X_test, y_train, y_test = train_test_split(X, y,  test_size=0.1, random_state=1)"
      ]
    },
    {
      "cell_type": "code",
      "execution_count": null,
      "metadata": {
        "id": "fRTtEGPmCmv_"
      },
      "outputs": [],
      "source": [
        "X_train_split, X_eval_split, y_train_split, y_eval_split = train_test_split(X_train, y_train, test_size=0.2, random_state=42)"
      ]
    },
    {
      "cell_type": "markdown",
      "source": [
        "CatBoost"
      ],
      "metadata": {
        "id": "PiepubGkFvbq"
      }
    },
    {
      "cell_type": "code",
      "execution_count": null,
      "metadata": {
        "id": "w29DfgGrCmwB"
      },
      "outputs": [],
      "source": [
        "catmodel_frequency = CatBoostRegressor()"
      ]
    },
    {
      "cell_type": "code",
      "execution_count": null,
      "metadata": {
        "id": "W163ezpACmwC"
      },
      "outputs": [],
      "source": [
        "catmodel_frequency.fit(pd.DataFrame(X_train_split), y_train_split, eval_set=(pd.DataFrame(X_eval_split), y_eval_split), use_best_model=True, verbose=False)"
      ]
    },
    {
      "cell_type": "code",
      "execution_count": null,
      "metadata": {
        "id": "38IWjLrpCmwD"
      },
      "outputs": [],
      "source": [
        "preds = catmodel_frequency.predict(pd.DataFrame(X_test))"
      ]
    },
    {
      "cell_type": "code",
      "execution_count": null,
      "metadata": {
        "id": "1ZkS04NvCmwE"
      },
      "outputs": [],
      "source": [
        "print(\"MAE: \", mean_absolute_error(y_test, preds))\n",
        "print(\"MAPE: \", mean_absolute_percentage_error(y_test, preds))\n",
        "print(\"MSE: \", mean_squared_error(y_test, preds))\n",
        "print(\"RMSE: \", mean_squared_error(y_test, preds, squared=False))\n",
        "\n",
        "#calculate pearson correlation\n",
        "print(\"Pearson :\", np.corrcoef(preds, y_test)[0][1])\n",
        "\n",
        "#Spearman correlation\n",
        "res, p_value = stats.spearmanr(preds, y_test)\n",
        "print(\"Spearman :\", res, p_value)\n",
        "\n",
        "\n",
        "#adjusted r2\n",
        "n_predictors = 1\n",
        "print(\"Adj. R2: \",adjusted_r2(y_test, preds, n_predictors))"
      ]
    },
    {
      "cell_type": "code",
      "execution_count": null,
      "metadata": {
        "id": "MM_G5zqDoXsv"
      },
      "outputs": [],
      "source": [
        "sns.jointplot(x=y_test, y=preds, alpha=0.3)\n",
        "plt.xlabel('Ground Truth [%]')\n",
        "plt.ylabel('Predictions [%]')"
      ]
    },
    {
      "cell_type": "markdown",
      "source": [
        "LightGBM"
      ],
      "metadata": {
        "id": "voVxWLbjFxmL"
      }
    },
    {
      "cell_type": "code",
      "execution_count": null,
      "metadata": {
        "id": "R1LmUIkZb4dY"
      },
      "outputs": [],
      "source": [
        "model = lgb.LGBMRegressor()"
      ]
    },
    {
      "cell_type": "code",
      "execution_count": null,
      "metadata": {
        "id": "65grvMKRb4db"
      },
      "outputs": [],
      "source": [
        "model.fit(pd.DataFrame(X_train_split), y_train_split, eval_set=(pd.DataFrame(X_eval_split), y_eval_split), verbose=False)"
      ]
    },
    {
      "cell_type": "code",
      "execution_count": null,
      "metadata": {
        "id": "JI5xU2Wob4de"
      },
      "outputs": [],
      "source": [
        "preds = model.predict(pd.DataFrame(X_test))"
      ]
    },
    {
      "cell_type": "code",
      "execution_count": null,
      "metadata": {
        "id": "Mlpe-q_Tb4di"
      },
      "outputs": [],
      "source": [
        "print(\"MAE: \", mean_absolute_error(y_test, preds))\n",
        "print(\"MAPE: \", mean_absolute_percentage_error(y_test, preds))\n",
        "print(\"MSE: \", mean_squared_error(y_test, preds))\n",
        "print(\"RMSE: \", mean_squared_error(y_test, preds, squared=False))\n",
        "\n",
        "#calculate pearson correlation\n",
        "print(\"Pearson :\", np.corrcoef(preds, y_test)[0][1])\n",
        "\n",
        "#Spearman correlation\n",
        "res, p_value = stats.spearmanr(preds, y_test)\n",
        "print(\"Spearman :\", res, p_value)\n",
        "\n",
        "\n",
        "#adjusted r2\n",
        "n_predictors = 1\n",
        "print(\"Adj. R2: \",adjusted_r2(y_test, preds, n_predictors))"
      ]
    },
    {
      "cell_type": "code",
      "execution_count": null,
      "metadata": {
        "id": "Ejqsfy90b4dl"
      },
      "outputs": [],
      "source": [
        "sns.jointplot(x=y_test, y=preds, alpha=0.3)\n",
        "plt.xlabel('Ground Truth [%]')\n",
        "plt.ylabel('Predictions [%]')"
      ]
    },
    {
      "cell_type": "markdown",
      "metadata": {
        "id": "PKkAQYqT4kgF"
      },
      "source": [
        "#Verification Status"
      ]
    },
    {
      "cell_type": "code",
      "execution_count": null,
      "metadata": {
        "id": "-9M92_tblFIX"
      },
      "outputs": [],
      "source": [
        "#import dataframes\n",
        "df_final = pd.read_csv(\"/content/drive/MyDrive/tiktok_model/df_tabular.csv\")"
      ]
    },
    {
      "cell_type": "code",
      "execution_count": null,
      "metadata": {
        "id": "QW3qQcIBCrB3"
      },
      "outputs": [],
      "source": [
        "X, y = df_final['verified'], df_final[\"average_engagement_impressions\"]"
      ]
    },
    {
      "cell_type": "code",
      "execution_count": null,
      "metadata": {
        "id": "9t97kyffCrB4"
      },
      "outputs": [],
      "source": [
        "X_train, X_test, y_train, y_test = train_test_split(X, y,  test_size=0.1, random_state=1)"
      ]
    },
    {
      "cell_type": "code",
      "execution_count": null,
      "metadata": {
        "id": "Qp3E-rnVCrB4"
      },
      "outputs": [],
      "source": [
        "X_train_split, X_eval_split, y_train_split, y_eval_split = train_test_split(X_train, y_train, test_size=0.2, random_state=42)"
      ]
    },
    {
      "cell_type": "markdown",
      "source": [
        "CatBoost"
      ],
      "metadata": {
        "id": "dnyclymCF0m1"
      }
    },
    {
      "cell_type": "code",
      "execution_count": null,
      "metadata": {
        "id": "r2899w8eCrB5"
      },
      "outputs": [],
      "source": [
        "catmodel_verified = CatBoostRegressor()"
      ]
    },
    {
      "cell_type": "code",
      "execution_count": null,
      "metadata": {
        "id": "spc-6RkWCrB5"
      },
      "outputs": [],
      "source": [
        "catmodel_verified.fit(pd.DataFrame(X_train_split), y_train_split, eval_set=(pd.DataFrame(X_eval_split), y_eval_split), use_best_model=True, verbose=False, cat_features=['verified'])"
      ]
    },
    {
      "cell_type": "code",
      "execution_count": null,
      "metadata": {
        "id": "bkHeid4iCrB6"
      },
      "outputs": [],
      "source": [
        "preds = catmodel_verified.predict(pd.DataFrame(X_test))"
      ]
    },
    {
      "cell_type": "code",
      "execution_count": null,
      "metadata": {
        "id": "z0xm3MStCrB6"
      },
      "outputs": [],
      "source": [
        "print(\"MAE: \", mean_absolute_error(y_test, preds))\n",
        "print(\"MAPE: \", mean_absolute_percentage_error(y_test, preds))\n",
        "print(\"MSE: \", mean_squared_error(y_test, preds))\n",
        "print(\"RMSE: \", mean_squared_error(y_test, preds, squared=False))\n",
        "\n",
        "#calculate pearson correlation\n",
        "print(\"Pearson :\", np.corrcoef(preds, y_test)[0][1])\n",
        "\n",
        "#Spearman correlation\n",
        "res, p_value = stats.spearmanr(preds, y_test)\n",
        "print(\"Spearman :\", res, p_value)\n",
        "\n",
        "\n",
        "#adjusted r2\n",
        "n_predictors = 1\n",
        "print(\"Adj. R2: \",adjusted_r2(y_test, preds, n_predictors))"
      ]
    },
    {
      "cell_type": "code",
      "execution_count": null,
      "metadata": {
        "id": "3LVXzIkPodVj"
      },
      "outputs": [],
      "source": [
        "sns.jointplot(x=y_test, y=preds, alpha=0.3)\n",
        "plt.xlabel('Ground Truth [%]')\n",
        "plt.ylabel('Predictions [%]')"
      ]
    },
    {
      "cell_type": "markdown",
      "source": [
        "LightGBM"
      ],
      "metadata": {
        "id": "nDQWRpeRF9Hj"
      }
    },
    {
      "cell_type": "code",
      "execution_count": null,
      "metadata": {
        "id": "pMRiNxSNcwHD"
      },
      "outputs": [],
      "source": [
        "model = lgb.LGBMRegressor()"
      ]
    },
    {
      "cell_type": "code",
      "execution_count": null,
      "metadata": {
        "id": "UqvK4Cf_cwHF"
      },
      "outputs": [],
      "source": [
        "model.fit(pd.DataFrame(X_train_split), y_train_split, eval_set=(pd.DataFrame(X_eval_split), y_eval_split), verbose=False, categorical_feature=['verified'])"
      ]
    },
    {
      "cell_type": "code",
      "execution_count": null,
      "metadata": {
        "id": "5Gcn_mkMcwHG"
      },
      "outputs": [],
      "source": [
        "preds = model.predict(pd.DataFrame(X_test))"
      ]
    },
    {
      "cell_type": "code",
      "execution_count": null,
      "metadata": {
        "id": "QVd1TvA9cwHH"
      },
      "outputs": [],
      "source": [
        "print(\"MAE: \", mean_absolute_error(y_test, preds))\n",
        "print(\"MAPE: \", mean_absolute_percentage_error(y_test, preds))\n",
        "print(\"MSE: \", mean_squared_error(y_test, preds))\n",
        "print(\"RMSE: \", mean_squared_error(y_test, preds, squared=False))\n",
        "\n",
        "#calculate pearson correlation\n",
        "print(\"Pearson :\", np.corrcoef(preds, y_test)[0][1])\n",
        "\n",
        "#Spearman correlation\n",
        "res, p_value = stats.spearmanr(preds, y_test)\n",
        "print(\"Spearman :\", res, p_value)\n",
        "\n",
        "\n",
        "#adjusted r2\n",
        "n_predictors = 1\n",
        "print(\"Adj. R2: \",adjusted_r2(y_test, preds, n_predictors))"
      ]
    },
    {
      "cell_type": "code",
      "execution_count": null,
      "metadata": {
        "id": "bdRLRUb6cwHJ"
      },
      "outputs": [],
      "source": [
        "sns.jointplot(x=y_test, y=preds, alpha=0.3)\n",
        "plt.xlabel('Ground Truth [%]')\n",
        "plt.ylabel('Predictions [%]')"
      ]
    },
    {
      "cell_type": "markdown",
      "metadata": {
        "id": "hYqIxKByAlmQ"
      },
      "source": [
        "#Combined CatBoost Model"
      ]
    },
    {
      "cell_type": "code",
      "execution_count": null,
      "metadata": {
        "id": "7Hr1oEUPlO0E"
      },
      "outputs": [],
      "source": [
        "#import dataframes\n",
        "df_final = pd.read_csv(\"/content/drive/MyDrive/tiktok_model/df_tabular.csv\")"
      ]
    },
    {
      "cell_type": "code",
      "execution_count": null,
      "metadata": {
        "id": "fKYhYj6hkpwE"
      },
      "outputs": [],
      "source": [
        "df_final = df_final.groupby('language_cat').filter(lambda x : len(x)>3)"
      ]
    },
    {
      "cell_type": "code",
      "execution_count": null,
      "metadata": {
        "id": "D7i39Q8H0nSW"
      },
      "outputs": [],
      "source": [
        "#df_final['language_cat']= df_final[\"language_cat\"].astype(str)"
      ]
    },
    {
      "cell_type": "code",
      "execution_count": null,
      "metadata": {
        "id": "BM8V04HvSOtJ"
      },
      "outputs": [],
      "source": [
        "X, y = df_final[['language_cat', 'topic', 'verified', 'post_frequency', 'channel_age']], df_final[\"average_engagement_impressions\"]"
      ]
    },
    {
      "cell_type": "code",
      "execution_count": null,
      "metadata": {
        "id": "D1x-OvMcSOtM"
      },
      "outputs": [],
      "source": [
        "X_train, X_test, y_train, y_test = train_test_split(X, y, stratify=X['language_cat'], test_size=0.1, random_state=1)"
      ]
    },
    {
      "cell_type": "code",
      "execution_count": null,
      "metadata": {
        "id": "G8vYDmSQSOtM"
      },
      "outputs": [],
      "source": [
        "X_train_split, X_eval_split, y_train_split, y_eval_split = train_test_split(X_train, y_train, stratify=X_train['language_cat'], test_size=0.2, random_state=42)"
      ]
    },
    {
      "cell_type": "markdown",
      "source": [
        "CatBoost"
      ],
      "metadata": {
        "id": "LgKmtsX2GA31"
      }
    },
    {
      "cell_type": "code",
      "execution_count": null,
      "metadata": {
        "id": "pjAQ6vxZSOtO"
      },
      "outputs": [],
      "source": [
        "cat_ensembled = CatBoostRegressor()"
      ]
    },
    {
      "cell_type": "code",
      "execution_count": null,
      "metadata": {
        "id": "2C7BYK7wSOtO"
      },
      "outputs": [],
      "source": [
        "cat_ensembled.fit(pd.DataFrame(X_train_split), y_train_split,  eval_set=(pd.DataFrame(X_eval_split), y_eval_split), verbose=False, use_best_model=True, cat_features=['language_cat', 'topic', 'verified'])"
      ]
    },
    {
      "cell_type": "code",
      "execution_count": null,
      "metadata": {
        "id": "CIZuPAF5SOtQ"
      },
      "outputs": [],
      "source": [
        "preds = cat_ensembled.predict(X_test)"
      ]
    },
    {
      "cell_type": "code",
      "execution_count": null,
      "metadata": {
        "id": "c9uTBlwZSOtR"
      },
      "outputs": [],
      "source": [
        "print(\"MAE: \", mean_absolute_error(y_test, preds))\n",
        "print(\"MAPE: \", mean_absolute_percentage_error(y_test, preds))\n",
        "print(\"MSE: \", mean_squared_error(y_test, preds))\n",
        "print(\"RMSE: \", mean_squared_error(y_test, preds, squared=False))\n",
        "\n",
        "#calculate pearson correlation\n",
        "print(\"Pearson :\", np.corrcoef(preds, y_test)[0][1])\n",
        "\n",
        "#Spearman correlation\n",
        "res, p_value = stats.spearmanr(preds, y_test)\n",
        "print(\"Spearman :\", res, p_value)\n",
        "\n",
        "\n",
        "#adjusted r2\n",
        "n_predictors = 5\n",
        "print(\"Adj. R2: \",adjusted_r2(y_test, preds, n_predictors))"
      ]
    },
    {
      "cell_type": "code",
      "execution_count": null,
      "metadata": {
        "id": "uK98lVGwFtGF"
      },
      "outputs": [],
      "source": [
        "sns.jointplot(x=y_test, y=preds, alpha=0.3)\n",
        "plt.xlabel('Ground Truth [%]')\n",
        "plt.ylabel('Predictions [%]')"
      ]
    },
    {
      "cell_type": "markdown",
      "source": [
        "LightGBM"
      ],
      "metadata": {
        "id": "LCWg7YIKGDrv"
      }
    },
    {
      "cell_type": "code",
      "execution_count": null,
      "metadata": {
        "id": "0cv1LWrmes7P"
      },
      "outputs": [],
      "source": [
        "model = lgb.LGBMRegressor()"
      ]
    },
    {
      "cell_type": "code",
      "execution_count": null,
      "metadata": {
        "id": "63RZo3dXes7S"
      },
      "outputs": [],
      "source": [
        "model.fit(pd.DataFrame(X_train_split), y_train_split, eval_set=(pd.DataFrame(X_eval_split), y_eval_split), verbose=False, categorical_feature=['language_cat', 'topic', 'verified'])"
      ]
    },
    {
      "cell_type": "code",
      "execution_count": null,
      "metadata": {
        "id": "E6cOTx64es7W"
      },
      "outputs": [],
      "source": [
        "preds = model.predict(pd.DataFrame(X_test))"
      ]
    },
    {
      "cell_type": "code",
      "execution_count": null,
      "metadata": {
        "id": "aBnsUovoes7Z"
      },
      "outputs": [],
      "source": [
        "print(\"MAE: \", mean_absolute_error(y_test, preds))\n",
        "print(\"MAPE: \", mean_absolute_percentage_error(y_test, preds))\n",
        "print(\"MSE: \", mean_squared_error(y_test, preds))\n",
        "print(\"RMSE: \", mean_squared_error(y_test, preds, squared=False))\n",
        "\n",
        "#calculate pearson correlation\n",
        "print(\"Pearson :\", np.corrcoef(preds, y_test)[0][1])\n",
        "\n",
        "#Spearman correlation\n",
        "res, p_value = stats.spearmanr(preds, y_test)\n",
        "print(\"Spearman :\", res, p_value)\n",
        "\n",
        "\n",
        "#adjusted r2\n",
        "n_predictors = 5\n",
        "print(\"Adj. R2: \",adjusted_r2(y_test, preds, n_predictors))"
      ]
    },
    {
      "cell_type": "code",
      "execution_count": null,
      "metadata": {
        "id": "PZk3Yw7nes7d"
      },
      "outputs": [],
      "source": [
        "sns.jointplot(x=y_test, y=preds, alpha=0.3)\n",
        "plt.xlabel('Ground Truth [%]')\n",
        "plt.ylabel('Predictions [%]')"
      ]
    },
    {
      "cell_type": "markdown",
      "source": [
        "#SHAP Analysis"
      ],
      "metadata": {
        "id": "vTwKp31mGGO2"
      }
    },
    {
      "cell_type": "code",
      "execution_count": null,
      "metadata": {
        "id": "fbVA0wefSOtS"
      },
      "outputs": [],
      "source": [
        "explainer = shap.Explainer(cat_ensembled)\n",
        "shap_values = explainer(pd.DataFrame(X_test))"
      ]
    },
    {
      "cell_type": "code",
      "execution_count": null,
      "metadata": {
        "id": "09FHP0ztSOtT"
      },
      "outputs": [],
      "source": [
        "# create a dependence scatter plot to show the effect of a single feature across the whole dataset\n",
        "fig,ax = plt.subplots(figsize=(12,7))\n",
        "shap.plots.scatter(shap_values[:,\"verified\"],  alpha=0.3, ax=ax)"
      ]
    },
    {
      "cell_type": "code",
      "execution_count": null,
      "metadata": {
        "id": "D7gh5Hz-HOHw"
      },
      "outputs": [],
      "source": [
        "# create a dependence scatter plot to show the effect of a single feature across the whole dataset\n",
        "fig,ax = plt.subplots(figsize=(12,7))\n",
        "shap.plots.scatter(shap_values[:,\"channel_age\"],  alpha=0.3, ax=ax)"
      ]
    },
    {
      "cell_type": "code",
      "execution_count": null,
      "metadata": {
        "id": "01K-EaJhNNPV"
      },
      "outputs": [],
      "source": [
        "# create a dependence scatter plot to show the effect of a single feature across the whole dataset\n",
        "fig,ax = plt.subplots(figsize=(12,7))\n",
        "\n",
        "shap.plots.scatter(shap_values[:,\"post_frequency\"],  alpha=0.3, ax=ax, xmax=0.2)"
      ]
    },
    {
      "cell_type": "code",
      "execution_count": null,
      "metadata": {
        "id": "_kmZ-17xHiXL"
      },
      "outputs": [],
      "source": [
        "df = pd.DataFrame({'topic': shap_values.data[:,1].ravel(), 'shap_value': shap_values.values[:,1].ravel()})"
      ]
    },
    {
      "cell_type": "code",
      "execution_count": null,
      "metadata": {
        "id": "JnDUCOPmHiXM"
      },
      "outputs": [],
      "source": [
        "df = df.groupby('topic').mean().sort_values(by='shap_value', ascending=False)"
      ]
    },
    {
      "cell_type": "code",
      "execution_count": null,
      "metadata": {
        "id": "l3_7BBtDHiXN"
      },
      "outputs": [],
      "source": [
        "print(df.to_string())"
      ]
    },
    {
      "cell_type": "code",
      "execution_count": null,
      "metadata": {
        "id": "9yYTnGp5acwR"
      },
      "outputs": [],
      "source": [
        "df = pd.DataFrame({'language_cat': shap_values.data[:,0].ravel(), 'shap_value': shap_values.values[:,0].ravel()})"
      ]
    },
    {
      "cell_type": "code",
      "execution_count": null,
      "metadata": {
        "id": "C-7ZHbmtacwT"
      },
      "outputs": [],
      "source": [
        "df = df.groupby('language_cat').mean().sort_values(by='shap_value', ascending=False)"
      ]
    },
    {
      "cell_type": "code",
      "execution_count": null,
      "metadata": {
        "id": "ECh8T3wlOyEW"
      },
      "outputs": [],
      "source": [
        "df2 = df_final.drop_duplicates(subset=['language_cat'])"
      ]
    },
    {
      "cell_type": "code",
      "execution_count": null,
      "metadata": {
        "id": "yixmWM4ROyEY"
      },
      "outputs": [],
      "source": [
        "df = pd.merge(df, df2[['language_cat', 'language']], on='language_cat', how='left')"
      ]
    },
    {
      "cell_type": "code",
      "execution_count": null,
      "metadata": {
        "id": "mqXRvKlMPxdB"
      },
      "outputs": [],
      "source": [
        "LANGUAGES = {\n",
        "    'af': 'afrikaans',\n",
        "    'sq': 'albanian',\n",
        "    'am': 'amharic',\n",
        "    'ar': 'arabic',\n",
        "    'hy': 'armenian',\n",
        "    'az': 'azerbaijani',\n",
        "    'eu': 'basque',\n",
        "    'be': 'belarusian',\n",
        "    'bn': 'bengali',\n",
        "    'bs': 'bosnian',\n",
        "    'bg': 'bulgarian',\n",
        "    'ca': 'catalan',\n",
        "    'ceb': 'cebuano',\n",
        "    'ny': 'chichewa',\n",
        "    'zh-cn': 'chinese (simplified)',\n",
        "    'zh-tw': 'chinese (traditional)',\n",
        "    'co': 'corsican',\n",
        "    'hr': 'croatian',\n",
        "    'cs': 'czech',\n",
        "    'da': 'danish',\n",
        "    'nl': 'dutch',\n",
        "    'en': 'english',\n",
        "    'eo': 'esperanto',\n",
        "    'et': 'estonian',\n",
        "    'tl': 'filipino',\n",
        "    'fi': 'finnish',\n",
        "    'fr': 'french',\n",
        "    'fy': 'frisian',\n",
        "    'gl': 'galician',\n",
        "    'ka': 'georgian',\n",
        "    'de': 'german',\n",
        "    'el': 'greek',\n",
        "    'gu': 'gujarati',\n",
        "    'ht': 'haitian creole',\n",
        "    'ha': 'hausa',\n",
        "    'haw': 'hawaiian',\n",
        "    'iw': 'hebrew',\n",
        "    'he': 'hebrew',\n",
        "    'hi': 'hindi',\n",
        "    'hmn': 'hmong',\n",
        "    'hu': 'hungarian',\n",
        "    'is': 'icelandic',\n",
        "    'ig': 'igbo',\n",
        "    'id': 'indonesian',\n",
        "    'ga': 'irish',\n",
        "    'it': 'italian',\n",
        "    'ja': 'japanese',\n",
        "    'jw': 'javanese',\n",
        "    'kn': 'kannada',\n",
        "    'kk': 'kazakh',\n",
        "    'km': 'khmer',\n",
        "    'ko': 'korean',\n",
        "    'ku': 'kurdish (kurmanji)',\n",
        "    'ky': 'kyrgyz',\n",
        "    'lo': 'lao',\n",
        "    'la': 'latin',\n",
        "    'lv': 'latvian',\n",
        "    'lt': 'lithuanian',\n",
        "    'lb': 'luxembourgish',\n",
        "    'mk': 'macedonian',\n",
        "    'mg': 'malagasy',\n",
        "    'ms': 'malay',\n",
        "    'ml': 'malayalam',\n",
        "    'mt': 'maltese',\n",
        "    'mi': 'maori',\n",
        "    'mr': 'marathi',\n",
        "    'mn': 'mongolian',\n",
        "    'my': 'myanmar (burmese)',\n",
        "    'ne': 'nepali',\n",
        "    'no': 'norwegian',\n",
        "    'or': 'odia',\n",
        "    'ps': 'pashto',\n",
        "    'fa': 'persian',\n",
        "    'pl': 'polish',\n",
        "    'pt': 'portuguese',\n",
        "    'pa': 'punjabi',\n",
        "    'ro': 'romanian',\n",
        "    'ru': 'russian',\n",
        "    'sm': 'samoan',\n",
        "    'gd': 'scots gaelic',\n",
        "    'sr': 'serbian',\n",
        "    'st': 'sesotho',\n",
        "    'sn': 'shona',\n",
        "    'sd': 'sindhi',\n",
        "    'si': 'sinhala',\n",
        "    'sk': 'slovak',\n",
        "    'sl': 'slovenian',\n",
        "    'so': 'somali',\n",
        "    'es': 'spanish',\n",
        "    'su': 'sundanese',\n",
        "    'sw': 'swahili',\n",
        "    'sv': 'swedish',\n",
        "    'tg': 'tajik',\n",
        "    'ta': 'tamil',\n",
        "    'te': 'telugu',\n",
        "    'th': 'thai',\n",
        "    'tr': 'turkish',\n",
        "    'uk': 'ukrainian',\n",
        "    'ur': 'urdu',\n",
        "    'ug': 'uyghur',\n",
        "    'uz': 'uzbek',\n",
        "    'vi': 'vietnamese',\n",
        "    'cy': 'welsh',\n",
        "    'xh': 'xhosa',\n",
        "    'yi': 'yiddish',\n",
        "    'yo': 'yoruba',\n",
        "    'zu': 'zulu',\n",
        "}"
      ]
    },
    {
      "cell_type": "code",
      "execution_count": null,
      "metadata": {
        "id": "GieKBrgQP4XC"
      },
      "outputs": [],
      "source": [
        "df.language = df.language.map(LANGUAGES)"
      ]
    },
    {
      "cell_type": "code",
      "execution_count": null,
      "metadata": {
        "id": "UmatDAhyacwU"
      },
      "outputs": [],
      "source": [
        "print(df.to_string())"
      ]
    },
    {
      "cell_type": "code",
      "execution_count": null,
      "metadata": {
        "id": "lkUSy-EveE6I"
      },
      "outputs": [],
      "source": [
        "shap.plots.beeswarm(shap_values)"
      ]
    },
    {
      "cell_type": "code",
      "execution_count": null,
      "metadata": {
        "id": "5UGiHgn3qmf0"
      },
      "outputs": [],
      "source": [
        "shap.plots.bar(shap_values)"
      ]
    },
    {
      "cell_type": "code",
      "execution_count": null,
      "metadata": {
        "id": "XFt_hMIeGxfQ"
      },
      "outputs": [],
      "source": [
        "# visualize the first prediction's explanation\n",
        "\n",
        "shap.plots.waterfall(shap_values[0])"
      ]
    }
  ],
  "metadata": {
    "accelerator": "GPU",
    "colab": {
      "machine_shape": "hm",
      "provenance": [],
      "gpuType": "A100"
    },
    "gpuClass": "standard",
    "kernelspec": {
      "display_name": "Python 3",
      "name": "python3"
    },
    "language_info": {
      "name": "python"
    }
  },
  "nbformat": 4,
  "nbformat_minor": 0
}